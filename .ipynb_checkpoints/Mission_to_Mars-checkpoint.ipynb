{
 "cells": [
  {
   "cell_type": "code",
   "execution_count": 2,
   "metadata": {},
   "outputs": [],
   "source": [
    "import requests\n",
    "import pandas as pd\n",
    "import json\n",
    "import sys \n",
    "import lxml\n",
    "\n",
    "import pymongo\n",
    "mongo_conn='mongodb://localhost:27107'\n",
    "client=pymongo.MongoClient(mongo_conn)\n",
    "\n",
    "from splinter import Browser\n",
    "from splinter.exceptions import ElementDoesNotExist\n",
    "from bs4 import BeautifulSoup as bs"
   ]
  },
  {
   "cell_type": "code",
   "execution_count": 2,
   "metadata": {},
   "outputs": [],
   "source": [
    "#locating chromedriver\n",
    "executable_path = {'executable_path': r\"C:\\Users\\jh231\\Downloads\\chromedriver_win32 (2)\\chromedriver.exe\"}\n",
    "browser = Browser('chrome', **executable_path, headless=False)"
   ]
  },
  {
   "cell_type": "code",
   "execution_count": 3,
   "metadata": {},
   "outputs": [],
   "source": [
    "#goes to url\n",
    "url = \"https://mars.nasa.gov/news/\"\n",
    "browser.visit(url)"
   ]
  },
  {
   "cell_type": "code",
   "execution_count": 4,
   "metadata": {},
   "outputs": [],
   "source": [
    "#converts to html\n",
    "html = browser.html\n",
    "soup = bs(html, 'html.parser')"
   ]
  },
  {
   "cell_type": "code",
   "execution_count": 5,
   "metadata": {},
   "outputs": [],
   "source": [
    "results = soup.find_all('div',class_='list_text')"
   ]
  },
  {
   "cell_type": "code",
   "execution_count": 6,
   "metadata": {},
   "outputs": [
    {
     "data": {
      "text/plain": [
       "[<div class=\"list_text\"><div class=\"list_date\">March 17, 2021</div><div class=\"content_title\"><a href=\"/news/8892/another-first-perseverance-captures-the-sounds-of-driving-on-mars/\" target=\"_self\">Another First: Perseverance Captures the Sounds of Driving on Mars</a></div><div class=\"article_teaser_body\">NASA’s newest rover recorded audio of itself crunching over the surface of the Red Planet, adding a whole new dimension to Mars exploration.</div></div>,\n",
       " <div class=\"list_text\"><div class=\"list_date\">March 17, 2021</div><div class=\"content_title\"><a href=\"/news/8891/nasa-to-host-briefing-to-preview-first-mars-helicopter-flights/\" target=\"_self\">NASA to Host Briefing to Preview First Mars Helicopter Flights</a></div><div class=\"article_teaser_body\">Members of the projects will lay out the steps necessary before the helicopter attempts its historic test flights. </div></div>,\n",
       " <div class=\"list_text\"><div class=\"list_date\">March 16, 2021</div><div class=\"content_title\"><a href=\"/news/8888/new-study-challenges-long-held-theory-of-fate-of-mars-water/\" target=\"_self\">New Study Challenges Long-Held Theory of Fate of Mars' Water</a></div><div class=\"article_teaser_body\">The new science results indicate that a large quantity of the Red Planet’s water is trapped in its crust rather than having escaped into space.</div></div>,\n",
       " <div class=\"list_text\"><div class=\"list_date\">March 11, 2021</div><div class=\"content_title\"><a href=\"/news/8886/nasas-perseverance-mars-rover-mission-honors-navajo-language/\" target=\"_self\">NASA's Perseverance Mars Rover Mission Honors Navajo Language</a></div><div class=\"article_teaser_body\">Working with the Navajo Nation, the rover team has named features on Mars with words from the Navajo language.</div></div>,\n",
       " <div class=\"list_text\"><div class=\"list_date\">March 10, 2021</div><div class=\"content_title\"><a href=\"/news/8885/perseverance-rovers-supercam-science-instrument-delivers-first-results/\" target=\"_self\">Perseverance Rover's SuperCam Science Instrument Delivers First Results</a></div><div class=\"article_teaser_body\">Data from the powerful science tool includes sounds of its laser zapping a rock in order to test what it’s made of.</div></div>,\n",
       " <div class=\"list_text\"><div class=\"list_date\">March  5, 2021</div><div class=\"content_title\"><a href=\"/news/8882/nasas-perseverance-drives-on-mars-terrain-for-first-time/\" target=\"_self\">NASA's Perseverance Drives on Mars' Terrain for First Time</a></div><div class=\"article_teaser_body\">The first trek of the agency’s largest, most advanced rover yet on the Red Planet marks a major milestone before science operations get under way.</div></div>,\n",
       " <div class=\"list_text\"><div class=\"list_date\">March  5, 2021</div><div class=\"content_title\"><a href=\"/news/8881/media-telecon-materials-march-5-2021/\" target=\"_self\">Media Telecon Materials - March 5, 2021</a></div><div class=\"article_teaser_body\">Mission team members are participating in a virtual teleconference to discuss milestones achieved so far since the Feb. 18 landing and those to come.</div></div>,\n",
       " <div class=\"list_text\"><div class=\"list_date\">March  4, 2021</div><div class=\"content_title\"><a href=\"/news/8880/nasa-awards-mars-ascent-propulsion-system-contract-for-sample-return/\" target=\"_self\">NASA Awards Mars Ascent Propulsion System Contract for Sample Return</a></div><div class=\"article_teaser_body\">The award moves NASA and ESA a step closer to realizing Mars Sample Return, an ambitious planetary exploration program that will build upon decades of science, knowledge, and experience.</div></div>,\n",
       " <div class=\"list_text\"><div class=\"list_date\">March  3, 2021</div><div class=\"content_title\"><a href=\"/news/8878/nasa-to-provide-update-on-perseverance-firsts-since-mars-landing/\" target=\"_self\">NASA to Provide Update on Perseverance ‘Firsts' Since Mars Landing </a></div><div class=\"article_teaser_body\">Mission team members are participating in a virtual teleconference to discuss milestones achieved so far since the Feb. 18 landing and those to come.</div></div>,\n",
       " <div class=\"list_text\"><div class=\"list_date\">February 25, 2021</div><div class=\"content_title\"><a href=\"/news/8875/testing-proves-its-worth-with-successful-mars-parachute-deployment/\" target=\"_self\">Testing Proves Its Worth With Successful Mars Parachute Deployment</a></div><div class=\"article_teaser_body\">The giant canopy that helped land Perseverance on Mars was tested here on Earth at NASA’s Wallops Flight Facility in Virginia.</div></div>,\n",
       " <div class=\"list_text\"><div class=\"list_date\">February 24, 2021</div><div class=\"content_title\"><a href=\"/news/8873/nasas-perseverance-rover-gives-high-definition-panoramic-view-of-landing-site/\" target=\"_self\">NASA's Perseverance Rover Gives High-Definition Panoramic View of Landing Site</a></div><div class=\"article_teaser_body\">A 360-degree panorama taken by the rover’s Mastcam-Z instrument will be discussed during a public video chat this Thursday.</div></div>,\n",
       " <div class=\"list_text\"><div class=\"list_date\">February 23, 2021</div><div class=\"content_title\"><a href=\"/news/8872/nearly-11-million-names-of-earthlings-are-on-mars-perseverance/\" target=\"_self\">Nearly 11 Million Names of Earthlings are on Mars Perseverance</a></div><div class=\"article_teaser_body\">When the Perseverance rover safely touched down on the Martian surface, inside Jezero Crater, on Feb. 18, 2021, it was also a safe landing for the nearly 11 million names on board.</div></div>,\n",
       " <div class=\"list_text\"><div class=\"list_date\">February 22, 2021</div><div class=\"content_title\"><a href=\"/news/8870/nasas-mars-perseverance-rover-provides-front-row-seat-to-landing-first-audio-recording-of-red-planet/\" target=\"_self\">NASA's Mars Perseverance Rover Provides Front-Row Seat to Landing, First Audio Recording of Red Planet </a></div><div class=\"article_teaser_body\">The agency’s newest rover captured first-of-its kind footage of its Feb. 18 touchdown and has recorded audio of Martian wind.\n",
       " \n",
       " </div></div>,\n",
       " <div class=\"list_text\"><div class=\"list_date\">February 22, 2021</div><div class=\"content_title\"><a href=\"/news/8868/nasa-to-reveal-new-video-images-from-mars-perseverance-rover/\" target=\"_self\">NASA to Reveal New Video, Images From Mars Perseverance Rover</a></div><div class=\"article_teaser_body\">First-of-its kind footage from the agency’s newest rover will be presented during a briefing this morning.</div></div>,\n",
       " <div class=\"list_text\"><div class=\"list_date\">February 20, 2021</div><div class=\"content_title\"><a href=\"/news/8867/nasas-mars-helicopter-reports-in/\" target=\"_self\">NASA's Mars Helicopter Reports In </a></div><div class=\"article_teaser_body\">The technology demonstration has phoned home from where it is attached to the belly of NASA’s Perseverance rover. </div></div>,\n",
       " <div class=\"list_text\"><div class=\"list_date\">February 19, 2021</div><div class=\"content_title\"><a href=\"/news/8866/nasas-perseverance-rover-sends-sneak-peek-of-mars-landing/\" target=\"_self\">NASA's Perseverance Rover Sends Sneak Peek of Mars Landing</a></div><div class=\"article_teaser_body\">The six-wheeled robot’s latest data since touching down yesterday include a hi-res image captured as the rover’s jetpack lowered it to the ground.</div></div>,\n",
       " <div class=\"list_text\"><div class=\"list_date\">February 18, 2021</div><div class=\"content_title\"><a href=\"/news/8865/touchdown-nasas-mars-perseverance-rover-safely-lands-on-red-planet/\" target=\"_self\">Touchdown! NASA's Mars Perseverance Rover Safely Lands on Red Planet</a></div><div class=\"article_teaser_body\">The agency’s latest and most complex mission to the Red Planet has touched down at Jezero Crater. Now it’s time to begin testing the health of the rover.  </div></div>,\n",
       " <div class=\"list_text\"><div class=\"list_date\">February 17, 2021</div><div class=\"content_title\"><a href=\"/news/8863/searching-for-life-in-nasas-perseverance-mars-samples/\" target=\"_self\">Searching for Life in NASA's Perseverance Mars Samples</a></div><div class=\"article_teaser_body\">When the agency’s newest rover mission searches for fossilized microscopic life on the Red Planet, how will scientists know whether they’ve found it?</div></div>,\n",
       " <div class=\"list_text\"><div class=\"list_date\">February 16, 2021</div><div class=\"content_title\"><a href=\"/news/8861/the-mars-relay-network-connects-us-to-nasas-martian-explorers/\" target=\"_self\">The Mars Relay Network Connects Us to NASA's Martian Explorers</a></div><div class=\"article_teaser_body\">A tightly choreographed dance between NASA’s Deep Space Network and Mars orbiters will keep the agency’s Perseverance in touch with Earth during landing and beyond.</div></div>,\n",
       " <div class=\"list_text\"><div class=\"list_date\">February 16, 2021</div><div class=\"content_title\"><a href=\"/news/8860/nasas-next-mars-rover-is-ready-for-the-most-precise-landing-yet/\" target=\"_self\">NASA's Next Mars Rover Is Ready for the Most Precise Landing Yet</a></div><div class=\"article_teaser_body\">What to expect when the Mars 2020 Perseverance rover arrives at the Red Planet on Feb. 18, 2021.</div></div>,\n",
       " <div class=\"list_text\"><div class=\"list_date\">February 12, 2021</div><div class=\"content_title\"><a href=\"/news/8859/sensors-prepare-to-collect-data-as-perseverance-enters-mars-atmosphere/\" target=\"_self\">Sensors Prepare to Collect Data as Perseverance Enters Mars' Atmosphere</a></div><div class=\"article_teaser_body\">Technology will collect critical data about the harsh entry environment during Perseverance’s entry next Thursday.</div></div>,\n",
       " <div class=\"list_text\"><div class=\"list_date\">February 12, 2021</div><div class=\"content_title\"><a href=\"/news/8858/insight-is-meeting-the-challenge-of-winter-on-dusty-mars/\" target=\"_self\">InSight Is Meeting the Challenge of Winter on Dusty Mars</a></div><div class=\"article_teaser_body\">As dust collects on the solar panels and winter comes to Elysium Planitia, the team is following a plan to reduce science operations in order to keep the lander safe.</div></div>,\n",
       " <div class=\"list_text\"><div class=\"list_date\">February 12, 2021</div><div class=\"content_title\"><a href=\"/news/8857/nasa-invites-public-to-share-thrill-of-mars-perseverance-rover-landing/\" target=\"_self\">NASA Invites Public to Share Thrill of Mars Perseverance Rover Landing</a></div><div class=\"article_teaser_body\">Mark your calendars for live landing commentary, news briefings, livestreamed Q&amp;As, virtual watch parties, student activities, and more.</div></div>,\n",
       " <div class=\"list_text\"><div class=\"list_date\">February  8, 2021</div><div class=\"content_title\"><a href=\"/news/8852/tricky-terrain-helping-to-assure-a-safe-rover-landing/\" target=\"_self\">Tricky Terrain: Helping to Assure a Safe Rover Landing</a></div><div class=\"article_teaser_body\">How two new technologies will help Perseverance, NASA’s most sophisticated rover yet, touch down onto the surface of Mars this month.</div></div>,\n",
       " <div class=\"list_text\"><div class=\"list_date\">February  8, 2021</div><div class=\"content_title\"><a href=\"/news/8851/where-should-future-astronauts-land-on-mars-follow-the-water/\" target=\"_self\">Where Should Future Astronauts Land on Mars? Follow the Water</a></div><div class=\"article_teaser_body\">A new NASA paper provides the most detailed map to date of near-surface water ice on the Red Planet.</div></div>,\n",
       " <div class=\"list_text\"><div class=\"list_date\">February  2, 2021</div><div class=\"content_title\"><a href=\"/news/8848/nasas-perseverance-pays-off-back-home/\" target=\"_self\">NASA's Perseverance Pays Off Back Home</a></div><div class=\"article_teaser_body\">Even as the Perseverance rover approaches Mars, technology on board is paying off on Earth.</div></div>,\n",
       " <div class=\"list_text\"><div class=\"list_date\">February  1, 2021</div><div class=\"content_title\"><a href=\"/news/8846/could-the-surface-of-phobos-reveal-secrets-of-the-martian-past/\" target=\"_self\">Could the Surface of Phobos Reveal Secrets of the Martian Past?</a></div><div class=\"article_teaser_body\">The Martian moon Phobos orbits through a stream of charged atoms and molecules that flow off the Red Planet’s atmosphere, new research shows.</div></div>,\n",
       " <div class=\"list_text\"><div class=\"list_date\">January 28, 2021</div><div class=\"content_title\"><a href=\"/news/8844/nasas-maven-continues-to-advance-mars-science-and-telecommunications-relay-efforts/\" target=\"_self\">NASA's MAVEN Continues to Advance Mars Science and Telecommunications Relay Efforts</a></div><div class=\"article_teaser_body\">With a suite of new national and international spacecraft primed to explore the Red Planet after their arrival next month, NASA’s MAVEN mission is ready to provide support and continue its study of the Martian atmosphere.</div></div>,\n",
       " <div class=\"list_text\"><div class=\"list_date\">January 27, 2021</div><div class=\"content_title\"><a href=\"/news/8843/nasas-perseverance-rover-22-days-from-mars-landing/\" target=\"_self\">NASA's Perseverance Rover 22 Days From Mars Landing</a></div><div class=\"article_teaser_body\">Seven minutes of harrowing descent to the Red Planet is in the not-so-distant future for the agency’s Mars 2020 mission.  </div></div>,\n",
       " <div class=\"list_text\"><div class=\"list_date\">January 21, 2021</div><div class=\"content_title\"><a href=\"/news/8840/6-things-to-know-about-nasas-mars-helicopter-on-its-way-to-mars/\" target=\"_self\">6 Things to Know About NASA's Mars Helicopter on Its Way to Mars</a></div><div class=\"article_teaser_body\">Ingenuity, a technology experiment, is preparing to attempt the first powered, controlled flight on the Red Planet.</div></div>,\n",
       " <div class=\"list_text\"><div class=\"list_date\">January 15, 2021</div><div class=\"content_title\"><a href=\"/news/8837/nasa-to-host-virtual-briefing-on-february-perseverance-mars-rover-landing/\" target=\"_self\">NASA to Host Virtual Briefing on February Perseverance Mars Rover Landing</a></div><div class=\"article_teaser_body\">NASA leadership and members of the mission will discuss the agency’s latest rover, which touches down on the Red Planet on Feb. 18.</div></div>,\n",
       " <div class=\"list_text\"><div class=\"list_date\">January 14, 2021</div><div class=\"content_title\"><a href=\"/news/8836/nasa-insights-mole-ends-its-journey-on-mars/\" target=\"_self\">NASA InSight's ‘Mole' Ends Its Journey on Mars</a></div><div class=\"article_teaser_body\">The heat probe hasn’t been able to gain the friction it needs to dig, but the mission has been granted an extension to carry on with its other science.</div></div>,\n",
       " <div class=\"list_text\"><div class=\"list_date\">January 13, 2021</div><div class=\"content_title\"><a href=\"/news/8834/mars-2020-perseverance-rover-to-capture-sounds-from-the-red-planet/\" target=\"_self\">Mars 2020 Perseverance Rover to Capture Sounds From the Red Planet</a></div><div class=\"article_teaser_body\">Audio gathered by the mission may not sound quite the same on Mars as it would to our ears on Earth. A new interactive online experience lets you sample the difference.</div></div>,\n",
       " <div class=\"list_text\"><div class=\"list_date\">January 12, 2021</div><div class=\"content_title\"><a href=\"/news/8832/nasas-curiosity-rover-reaches-its-3000th-day-on-mars/\" target=\"_self\">NASA's Curiosity Rover Reaches Its 3,000th Day on Mars</a></div><div class=\"article_teaser_body\">As the rover has continued to ascend Mount Sharp, it’s found distinctive benchlike rock formations.</div></div>,\n",
       " <div class=\"list_text\"><div class=\"list_date\">January  8, 2021</div><div class=\"content_title\"><a href=\"/news/8830/celebrate-the-perseverance-rover-landing-with-nasas-student-challenge/\" target=\"_self\">Celebrate the Perseverance Rover Landing With NASA's Student Challenge</a></div><div class=\"article_teaser_body\">The rover touches down on the Red Planet next month, and students are invited to join the excitement by designing, building, and landing their own Mars mission. NASA can help.</div></div>,\n",
       " <div class=\"list_text\"><div class=\"list_date\">January  8, 2021</div><div class=\"content_title\"><a href=\"/news/8829/nasa-extends-exploration-for-two-planetary-science-missions/\" target=\"_self\">NASA Extends Exploration for Two Planetary Science Missions</a></div><div class=\"article_teaser_body\">The missions – Juno and InSight – have each increased our understanding of our solar system, as well as spurred new sets of diverse questions.</div></div>,\n",
       " <div class=\"list_text\"><div class=\"list_date\">January  6, 2021</div><div class=\"content_title\"><a href=\"/news/8826/7-things-to-know-about-the-nasa-rover-about-to-land-on-mars/\" target=\"_self\">7 Things to Know About the NASA Rover About to Land on Mars</a></div><div class=\"article_teaser_body\">The Mars 2020 Perseverance rover, which has started its approach to the Red Planet, will help answer the next logical question in Mars exploration.</div></div>,\n",
       " <div class=\"list_text\"><div class=\"list_date\">December 22, 2020</div><div class=\"content_title\"><a href=\"/news/8822/a-martian-roundtrip-nasas-perseverance-rover-sample-tubes/\" target=\"_self\">A Martian Roundtrip: NASA's Perseverance Rover Sample Tubes</a></div><div class=\"article_teaser_body\">Marvels of engineering, the rover's sample tubes must be tough enough to safely bring Red Planet samples on the long journey back to Earth in immaculate condition. </div></div>,\n",
       " <div class=\"list_text\"><div class=\"list_date\">December 17, 2020</div><div class=\"content_title\"><a href=\"/news/8819/nasa-moves-forward-with-campaign-to-return-mars-samples-to-earth/\" target=\"_self\">NASA Moves Forward With Campaign to Return Mars Samples to Earth</a></div><div class=\"article_teaser_body\">During this next phase, the program will mature critical technologies and make critical design decisions as well as assess industry partnerships.</div></div>,\n",
       " <div class=\"list_text\"><div class=\"list_date\">December 16, 2020</div><div class=\"content_title\"><a href=\"/news/8817/3-things-weve-learned-from-nasas-mars-insight/\" target=\"_self\">3 Things We've Learned From NASA's Mars InSight </a></div><div class=\"article_teaser_body\">Scientists are finding new mysteries since the geophysics mission landed two years ago.</div></div>]"
      ]
     },
     "execution_count": 6,
     "metadata": {},
     "output_type": "execute_result"
    }
   ],
   "source": [
    "results"
   ]
  },
  {
   "cell_type": "code",
   "execution_count": 7,
   "metadata": {},
   "outputs": [
    {
     "name": "stdout",
     "output_type": "stream",
     "text": [
      "Title: Another First: Perseverance Captures the Sounds of Driving on Mars\n",
      "Preview: NASA’s newest rover recorded audio of itself crunching over the surface of the Red Planet, adding a whole new dimension to Mars exploration.\n",
      "--------------------------------------------\n",
      "Title: NASA to Host Briefing to Preview First Mars Helicopter Flights\n",
      "Preview: Members of the projects will lay out the steps necessary before the helicopter attempts its historic test flights. \n",
      "--------------------------------------------\n",
      "Title: New Study Challenges Long-Held Theory of Fate of Mars' Water\n",
      "Preview: The new science results indicate that a large quantity of the Red Planet’s water is trapped in its crust rather than having escaped into space.\n",
      "--------------------------------------------\n",
      "Title: NASA's Perseverance Mars Rover Mission Honors Navajo Language\n",
      "Preview: Working with the Navajo Nation, the rover team has named features on Mars with words from the Navajo language.\n",
      "--------------------------------------------\n",
      "Title: Perseverance Rover's SuperCam Science Instrument Delivers First Results\n",
      "Preview: Data from the powerful science tool includes sounds of its laser zapping a rock in order to test what it’s made of.\n",
      "--------------------------------------------\n",
      "Title: NASA's Perseverance Drives on Mars' Terrain for First Time\n",
      "Preview: The first trek of the agency’s largest, most advanced rover yet on the Red Planet marks a major milestone before science operations get under way.\n",
      "--------------------------------------------\n",
      "Title: Media Telecon Materials - March 5, 2021\n",
      "Preview: Mission team members are participating in a virtual teleconference to discuss milestones achieved so far since the Feb. 18 landing and those to come.\n",
      "--------------------------------------------\n",
      "Title: NASA Awards Mars Ascent Propulsion System Contract for Sample Return\n",
      "Preview: The award moves NASA and ESA a step closer to realizing Mars Sample Return, an ambitious planetary exploration program that will build upon decades of science, knowledge, and experience.\n",
      "--------------------------------------------\n",
      "Title: NASA to Provide Update on Perseverance ‘Firsts' Since Mars Landing \n",
      "Preview: Mission team members are participating in a virtual teleconference to discuss milestones achieved so far since the Feb. 18 landing and those to come.\n",
      "--------------------------------------------\n",
      "Title: Testing Proves Its Worth With Successful Mars Parachute Deployment\n",
      "Preview: The giant canopy that helped land Perseverance on Mars was tested here on Earth at NASA’s Wallops Flight Facility in Virginia.\n",
      "--------------------------------------------\n",
      "Title: NASA's Perseverance Rover Gives High-Definition Panoramic View of Landing Site\n",
      "Preview: A 360-degree panorama taken by the rover’s Mastcam-Z instrument will be discussed during a public video chat this Thursday.\n",
      "--------------------------------------------\n",
      "Title: Nearly 11 Million Names of Earthlings are on Mars Perseverance\n",
      "Preview: When the Perseverance rover safely touched down on the Martian surface, inside Jezero Crater, on Feb. 18, 2021, it was also a safe landing for the nearly 11 million names on board.\n",
      "--------------------------------------------\n",
      "Title: NASA's Mars Perseverance Rover Provides Front-Row Seat to Landing, First Audio Recording of Red Planet \n",
      "Preview: The agency’s newest rover captured first-of-its kind footage of its Feb. 18 touchdown and has recorded audio of Martian wind.\n",
      "\n",
      "\n",
      "--------------------------------------------\n",
      "Title: NASA to Reveal New Video, Images From Mars Perseverance Rover\n",
      "Preview: First-of-its kind footage from the agency’s newest rover will be presented during a briefing this morning.\n",
      "--------------------------------------------\n",
      "Title: NASA's Mars Helicopter Reports In \n",
      "Preview: The technology demonstration has phoned home from where it is attached to the belly of NASA’s Perseverance rover. \n",
      "--------------------------------------------\n",
      "Title: NASA's Perseverance Rover Sends Sneak Peek of Mars Landing\n",
      "Preview: The six-wheeled robot’s latest data since touching down yesterday include a hi-res image captured as the rover’s jetpack lowered it to the ground.\n",
      "--------------------------------------------\n",
      "Title: Touchdown! NASA's Mars Perseverance Rover Safely Lands on Red Planet\n",
      "Preview: The agency’s latest and most complex mission to the Red Planet has touched down at Jezero Crater. Now it’s time to begin testing the health of the rover.  \n",
      "--------------------------------------------\n",
      "Title: Searching for Life in NASA's Perseverance Mars Samples\n",
      "Preview: When the agency’s newest rover mission searches for fossilized microscopic life on the Red Planet, how will scientists know whether they’ve found it?\n",
      "--------------------------------------------\n",
      "Title: The Mars Relay Network Connects Us to NASA's Martian Explorers\n",
      "Preview: A tightly choreographed dance between NASA’s Deep Space Network and Mars orbiters will keep the agency’s Perseverance in touch with Earth during landing and beyond.\n",
      "--------------------------------------------\n",
      "Title: NASA's Next Mars Rover Is Ready for the Most Precise Landing Yet\n",
      "Preview: What to expect when the Mars 2020 Perseverance rover arrives at the Red Planet on Feb. 18, 2021.\n",
      "--------------------------------------------\n",
      "Title: Sensors Prepare to Collect Data as Perseverance Enters Mars' Atmosphere\n",
      "Preview: Technology will collect critical data about the harsh entry environment during Perseverance’s entry next Thursday.\n",
      "--------------------------------------------\n",
      "Title: InSight Is Meeting the Challenge of Winter on Dusty Mars\n",
      "Preview: As dust collects on the solar panels and winter comes to Elysium Planitia, the team is following a plan to reduce science operations in order to keep the lander safe.\n",
      "--------------------------------------------\n",
      "Title: NASA Invites Public to Share Thrill of Mars Perseverance Rover Landing\n",
      "Preview: Mark your calendars for live landing commentary, news briefings, livestreamed Q&As, virtual watch parties, student activities, and more.\n",
      "--------------------------------------------\n",
      "Title: Tricky Terrain: Helping to Assure a Safe Rover Landing\n",
      "Preview: How two new technologies will help Perseverance, NASA’s most sophisticated rover yet, touch down onto the surface of Mars this month.\n",
      "--------------------------------------------\n",
      "Title: Where Should Future Astronauts Land on Mars? Follow the Water\n",
      "Preview: A new NASA paper provides the most detailed map to date of near-surface water ice on the Red Planet.\n",
      "--------------------------------------------\n",
      "Title: NASA's Perseverance Pays Off Back Home\n",
      "Preview: Even as the Perseverance rover approaches Mars, technology on board is paying off on Earth.\n",
      "--------------------------------------------\n",
      "Title: Could the Surface of Phobos Reveal Secrets of the Martian Past?\n",
      "Preview: The Martian moon Phobos orbits through a stream of charged atoms and molecules that flow off the Red Planet’s atmosphere, new research shows.\n",
      "--------------------------------------------\n",
      "Title: NASA's MAVEN Continues to Advance Mars Science and Telecommunications Relay Efforts\n",
      "Preview: With a suite of new national and international spacecraft primed to explore the Red Planet after their arrival next month, NASA’s MAVEN mission is ready to provide support and continue its study of the Martian atmosphere.\n",
      "--------------------------------------------\n",
      "Title: NASA's Perseverance Rover 22 Days From Mars Landing\n",
      "Preview: Seven minutes of harrowing descent to the Red Planet is in the not-so-distant future for the agency’s Mars 2020 mission.  \n",
      "--------------------------------------------\n",
      "Title: 6 Things to Know About NASA's Mars Helicopter on Its Way to Mars\n",
      "Preview: Ingenuity, a technology experiment, is preparing to attempt the first powered, controlled flight on the Red Planet.\n",
      "--------------------------------------------\n",
      "Title: NASA to Host Virtual Briefing on February Perseverance Mars Rover Landing\n",
      "Preview: NASA leadership and members of the mission will discuss the agency’s latest rover, which touches down on the Red Planet on Feb. 18.\n",
      "--------------------------------------------\n",
      "Title: NASA InSight's ‘Mole' Ends Its Journey on Mars\n",
      "Preview: The heat probe hasn’t been able to gain the friction it needs to dig, but the mission has been granted an extension to carry on with its other science.\n",
      "--------------------------------------------\n",
      "Title: Mars 2020 Perseverance Rover to Capture Sounds From the Red Planet\n",
      "Preview: Audio gathered by the mission may not sound quite the same on Mars as it would to our ears on Earth. A new interactive online experience lets you sample the difference.\n",
      "--------------------------------------------\n",
      "Title: NASA's Curiosity Rover Reaches Its 3,000th Day on Mars\n",
      "Preview: As the rover has continued to ascend Mount Sharp, it’s found distinctive benchlike rock formations.\n",
      "--------------------------------------------\n",
      "Title: Celebrate the Perseverance Rover Landing With NASA's Student Challenge\n",
      "Preview: The rover touches down on the Red Planet next month, and students are invited to join the excitement by designing, building, and landing their own Mars mission. NASA can help.\n",
      "--------------------------------------------\n",
      "Title: NASA Extends Exploration for Two Planetary Science Missions\n",
      "Preview: The missions – Juno and InSight – have each increased our understanding of our solar system, as well as spurred new sets of diverse questions.\n",
      "--------------------------------------------\n",
      "Title: 7 Things to Know About the NASA Rover About to Land on Mars\n",
      "Preview: The Mars 2020 Perseverance rover, which has started its approach to the Red Planet, will help answer the next logical question in Mars exploration.\n",
      "--------------------------------------------\n",
      "Title: A Martian Roundtrip: NASA's Perseverance Rover Sample Tubes\n",
      "Preview: Marvels of engineering, the rover's sample tubes must be tough enough to safely bring Red Planet samples on the long journey back to Earth in immaculate condition. \n",
      "--------------------------------------------\n",
      "Title: NASA Moves Forward With Campaign to Return Mars Samples to Earth\n",
      "Preview: During this next phase, the program will mature critical technologies and make critical design decisions as well as assess industry partnerships.\n",
      "--------------------------------------------\n",
      "Title: 3 Things We've Learned From NASA's Mars InSight \n",
      "Preview: Scientists are finding new mysteries since the geophysics mission landed two years ago.\n",
      "--------------------------------------------\n"
     ]
    }
   ],
   "source": [
    "#all titles\n",
    "for result in results:\n",
    "    \n",
    "    if result.find('a'):\n",
    "        try:\n",
    "            news_title = result.find('a').text\n",
    "            news_p = result.find('div',class_='article_teaser_body').text\n",
    "            print(f\"Title: {news_title}\")\n",
    "            print(f\"Preview: {news_p}\")\n",
    "            print(\"--------------------------------------------\")\n",
    "        except:\n",
    "            pass"
   ]
  },
  {
   "cell_type": "code",
   "execution_count": 8,
   "metadata": {},
   "outputs": [],
   "source": [
    "url2 = \"https://www.jpl.nasa.gov/spaceimages/?search=&category=Mars\"\n",
    "browser.visit(url2)"
   ]
  },
  {
   "cell_type": "code",
   "execution_count": 9,
   "metadata": {},
   "outputs": [],
   "source": [
    "html2 = browser.html\n",
    "soup2 = bs(html2, \"lxml\")\n",
    "# soup2 = bs(html2, 'lxml')"
   ]
  },
  {
   "cell_type": "code",
   "execution_count": 11,
   "metadata": {},
   "outputs": [],
   "source": [
    "results2 = soup2.find_all('div',class_='carousel_items')"
   ]
  },
  {
   "cell_type": "code",
   "execution_count": 12,
   "metadata": {},
   "outputs": [],
   "source": [
    "for result in results2:\n",
    "    image_url = result.find('article')['style'].strip('background-image: url();')\n",
    "    full_url = f\"https://www.jpl.nasa.gov{image_url}\"\n",
    "    featured_image_url = full_url.replace(\"'\",'')\n",
    "    print(featured_image_url)"
   ]
  },
  {
   "cell_type": "code",
   "execution_count": 13,
   "metadata": {},
   "outputs": [],
   "source": [
    "url4 = 'https://space-facts.com/mars/'\n",
    "browser.visit(url4)"
   ]
  },
  {
   "cell_type": "code",
   "execution_count": 14,
   "metadata": {},
   "outputs": [
    {
     "name": "stdout",
     "output_type": "stream",
     "text": [
      "[                      0                              1\n",
      "0  Equatorial Diameter:                       6,792 km\n",
      "1       Polar Diameter:                       6,752 km\n",
      "2                 Mass:  6.39 × 10^23 kg (0.11 Earths)\n",
      "3                Moons:            2 (Phobos & Deimos)\n",
      "4       Orbit Distance:       227,943,824 km (1.38 AU)\n",
      "5         Orbit Period:           687 days (1.9 years)\n",
      "6  Surface Temperature:                   -87 to -5 °C\n",
      "7         First Record:              2nd millennium BC\n",
      "8          Recorded By:           Egyptian astronomers,   Mars - Earth Comparison             Mars            Earth\n",
      "0               Diameter:         6,779 km        12,742 km\n",
      "1                   Mass:  6.39 × 10^23 kg  5.97 × 10^24 kg\n",
      "2                  Moons:                2                1\n",
      "3      Distance from Sun:   227,943,824 km   149,598,262 km\n",
      "4         Length of Year:   687 Earth days      365.24 days\n",
      "5            Temperature:     -87 to -5 °C      -88 to 58°C,                       0                              1\n",
      "0  Equatorial Diameter:                       6,792 km\n",
      "1       Polar Diameter:                       6,752 km\n",
      "2                 Mass:  6.39 × 10^23 kg (0.11 Earths)\n",
      "3                Moons:            2 (Phobos & Deimos)\n",
      "4       Orbit Distance:       227,943,824 km (1.38 AU)\n",
      "5         Orbit Period:           687 days (1.9 years)\n",
      "6  Surface Temperature:                   -87 to -5 °C\n",
      "7         First Record:              2nd millennium BC\n",
      "8          Recorded By:           Egyptian astronomers]\n"
     ]
    }
   ],
   "source": [
    "tables = pd.read_html(url4)\n",
    "print(tables)"
   ]
  },
  {
   "cell_type": "code",
   "execution_count": 15,
   "metadata": {},
   "outputs": [
    {
     "data": {
      "text/html": [
       "<div>\n",
       "<style scoped>\n",
       "    .dataframe tbody tr th:only-of-type {\n",
       "        vertical-align: middle;\n",
       "    }\n",
       "\n",
       "    .dataframe tbody tr th {\n",
       "        vertical-align: top;\n",
       "    }\n",
       "\n",
       "    .dataframe thead th {\n",
       "        text-align: right;\n",
       "    }\n",
       "</style>\n",
       "<table border=\"1\" class=\"dataframe\">\n",
       "  <thead>\n",
       "    <tr style=\"text-align: right;\">\n",
       "      <th></th>\n",
       "      <th>Fact</th>\n",
       "      <th>Stat</th>\n",
       "    </tr>\n",
       "  </thead>\n",
       "  <tbody>\n",
       "    <tr>\n",
       "      <th>0</th>\n",
       "      <td>Equatorial Diameter:</td>\n",
       "      <td>6,792 km</td>\n",
       "    </tr>\n",
       "    <tr>\n",
       "      <th>1</th>\n",
       "      <td>Polar Diameter:</td>\n",
       "      <td>6,752 km</td>\n",
       "    </tr>\n",
       "    <tr>\n",
       "      <th>2</th>\n",
       "      <td>Mass:</td>\n",
       "      <td>6.39 × 10^23 kg (0.11 Earths)</td>\n",
       "    </tr>\n",
       "    <tr>\n",
       "      <th>3</th>\n",
       "      <td>Moons:</td>\n",
       "      <td>2 (Phobos &amp; Deimos)</td>\n",
       "    </tr>\n",
       "    <tr>\n",
       "      <th>4</th>\n",
       "      <td>Orbit Distance:</td>\n",
       "      <td>227,943,824 km (1.38 AU)</td>\n",
       "    </tr>\n",
       "    <tr>\n",
       "      <th>5</th>\n",
       "      <td>Orbit Period:</td>\n",
       "      <td>687 days (1.9 years)</td>\n",
       "    </tr>\n",
       "    <tr>\n",
       "      <th>6</th>\n",
       "      <td>Surface Temperature:</td>\n",
       "      <td>-87 to -5 °C</td>\n",
       "    </tr>\n",
       "    <tr>\n",
       "      <th>7</th>\n",
       "      <td>First Record:</td>\n",
       "      <td>2nd millennium BC</td>\n",
       "    </tr>\n",
       "    <tr>\n",
       "      <th>8</th>\n",
       "      <td>Recorded By:</td>\n",
       "      <td>Egyptian astronomers</td>\n",
       "    </tr>\n",
       "  </tbody>\n",
       "</table>\n",
       "</div>"
      ],
      "text/plain": [
       "                   Fact                           Stat\n",
       "0  Equatorial Diameter:                       6,792 km\n",
       "1       Polar Diameter:                       6,752 km\n",
       "2                 Mass:  6.39 × 10^23 kg (0.11 Earths)\n",
       "3                Moons:            2 (Phobos & Deimos)\n",
       "4       Orbit Distance:       227,943,824 km (1.38 AU)\n",
       "5         Orbit Period:           687 days (1.9 years)\n",
       "6  Surface Temperature:                   -87 to -5 °C\n",
       "7         First Record:              2nd millennium BC\n",
       "8          Recorded By:           Egyptian astronomers"
      ]
     },
     "execution_count": 15,
     "metadata": {},
     "output_type": "execute_result"
    }
   ],
   "source": [
    "df = tables[0]\n",
    "df.columns = ['Fact','Stat']\n",
    "df"
   ]
  },
  {
   "cell_type": "code",
   "execution_count": 16,
   "metadata": {},
   "outputs": [],
   "source": [
    "url_list = ['https://astrogeology.usgs.gov/search/map/Mars/Viking/cerberus_enhanced','https://astrogeology.usgs.gov/search/map/Mars/Viking/schiaparelli_enhanced','https://astrogeology.usgs.gov/search/map/Mars/Viking/syrtis_major_enhanced','https://astrogeology.usgs.gov/search/map/Mars/Viking/valles_marineris_enhanced']"
   ]
  },
  {
   "cell_type": "code",
   "execution_count": 17,
   "metadata": {},
   "outputs": [
    {
     "name": "stdout",
     "output_type": "stream",
     "text": [
      "https://astropedia.astrogeology.usgs.gov/download/Mars/Viking/cerberus_enhanced.tif/full.jpg\n",
      "Cerberus Hemisphere Enhanced\n",
      "https://astropedia.astrogeology.usgs.gov/download/Mars/Viking/schiaparelli_enhanced.tif/full.jpg\n",
      "Schiaparelli Hemisphere Enhanced\n",
      "https://astropedia.astrogeology.usgs.gov/download/Mars/Viking/syrtis_major_enhanced.tif/full.jpg\n",
      "Syrtis Major Hemisphere Enhanced\n",
      "https://astropedia.astrogeology.usgs.gov/download/Mars/Viking/valles_marineris_enhanced.tif/full.jpg\n",
      "Valles Marineris Hemisphere Enhanced\n"
     ]
    }
   ],
   "source": [
    "hemisphere_image_urls = []\n",
    "for url in url_list:\n",
    "    browser.visit(url)\n",
    "    html = browser.html\n",
    "    soup = bs(html,'lxml')\n",
    "    results = soup.find_all('div',class_='downloads')\n",
    "    for result in results:\n",
    "        if result.find('a')['href']:\n",
    "                img_url = result.find('a')['href']\n",
    "                print(img_url)\n",
    "    title = soup.find('h2',class_='title').text\n",
    "    print(title)\n",
    "    hemisphere_image_urls.append({'img_url':img_url,'title':title})"
   ]
  },
  {
   "cell_type": "code",
   "execution_count": 18,
   "metadata": {},
   "outputs": [
    {
     "name": "stdout",
     "output_type": "stream",
     "text": [
      "[{'img_url': 'https://astropedia.astrogeology.usgs.gov/download/Mars/Viking/cerberus_enhanced.tif/full.jpg', 'title': 'Cerberus Hemisphere Enhanced'}, {'img_url': 'https://astropedia.astrogeology.usgs.gov/download/Mars/Viking/schiaparelli_enhanced.tif/full.jpg', 'title': 'Schiaparelli Hemisphere Enhanced'}, {'img_url': 'https://astropedia.astrogeology.usgs.gov/download/Mars/Viking/syrtis_major_enhanced.tif/full.jpg', 'title': 'Syrtis Major Hemisphere Enhanced'}, {'img_url': 'https://astropedia.astrogeology.usgs.gov/download/Mars/Viking/valles_marineris_enhanced.tif/full.jpg', 'title': 'Valles Marineris Hemisphere Enhanced'}]\n"
     ]
    }
   ],
   "source": [
    "print(hemisphere_image_urls)"
   ]
  },
  {
   "cell_type": "code",
   "execution_count": null,
   "metadata": {},
   "outputs": [],
   "source": []
  }
 ],
 "metadata": {
  "kernelspec": {
   "display_name": "Python 3",
   "language": "python",
   "name": "python3"
  },
  "language_info": {
   "codemirror_mode": {
    "name": "ipython",
    "version": 3
   },
   "file_extension": ".py",
   "mimetype": "text/x-python",
   "name": "python",
   "nbconvert_exporter": "python",
   "pygments_lexer": "ipython3",
   "version": "3.8.0"
  }
 },
 "nbformat": 4,
 "nbformat_minor": 4
}
